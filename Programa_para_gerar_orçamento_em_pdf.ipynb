{
  "nbformat": 4,
  "nbformat_minor": 0,
  "metadata": {
    "colab": {
      "provenance": [],
      "authorship_tag": "ABX9TyNvL82Bnr27ETeLsli+4AsM",
      "include_colab_link": true
    },
    "kernelspec": {
      "name": "python3",
      "display_name": "Python 3"
    },
    "language_info": {
      "name": "python"
    }
  },
  "cells": [
    {
      "cell_type": "markdown",
      "metadata": {
        "id": "view-in-github",
        "colab_type": "text"
      },
      "source": [
        "<a href=\"https://colab.research.google.com/github/dutrajunior/python_estudos/blob/main/Programa_para_gerar_or%C3%A7amento_em_pdf.ipynb\" target=\"_parent\"><img src=\"https://colab.research.google.com/assets/colab-badge.svg\" alt=\"Open In Colab\"/></a>"
      ]
    },
    {
      "cell_type": "code",
      "source": [
        "!pip install fpdf\n",
        "\n",
        "from fpdf import FPDF"
      ],
      "metadata": {
        "colab": {
          "base_uri": "https://localhost:8080/"
        },
        "id": "NuoqS0jxCHXR",
        "outputId": "8fe711ea-e26e-4332-ec49-fd6912632e37"
      },
      "execution_count": null,
      "outputs": [
        {
          "output_type": "stream",
          "name": "stdout",
          "text": [
            "Requirement already satisfied: fpdf in /usr/local/lib/python3.10/dist-packages (1.7.2)\n"
          ]
        }
      ]
    },
    {
      "cell_type": "code",
      "execution_count": null,
      "metadata": {
        "colab": {
          "base_uri": "https://localhost:8080/"
        },
        "id": "EITDYDQ36YKp",
        "outputId": "ad4de6d8-0cb5-407f-9047-c485b0410fb3"
      },
      "outputs": [
        {
          "name": "stdout",
          "output_type": "stream",
          "text": [
            "Digite a descrição do projeto:teste\n",
            "Digite a quantidade de horas previstas:200\n",
            "Digite o valor da hora trabalhada:100\n",
            "Digite o prazo estimado:6\n"
          ]
        }
      ],
      "source": [
        "projeto = input(\"Digite a descrição do projeto:\")\n",
        "horas_previstas = int(input(\"Digite a quantidade de horas previstas:\"))\n",
        "valor_hora_trabalhada = int(input(\"Digite o valor da hora trabalhada:\"))\n",
        "prazo = input(\"Digite o prazo estimado:\")\n",
        "valor_total= horas_previstas*valor_hora_trabalhada"
      ]
    },
    {
      "cell_type": "code",
      "source": [
        "print(valor_total)"
      ],
      "metadata": {
        "colab": {
          "base_uri": "https://localhost:8080/"
        },
        "id": "jfungmu7-6yL",
        "outputId": "953faeed-650d-466e-e57f-1650613bbb7e"
      },
      "execution_count": null,
      "outputs": [
        {
          "output_type": "stream",
          "name": "stdout",
          "text": [
            "20000\n"
          ]
        }
      ]
    },
    {
      "cell_type": "code",
      "source": [
        "pdf= FPDF()\n",
        "\n",
        "pdf.add_page()\n",
        "pdf.set_font(\"Arial\")\n",
        "#pdf.image(\"template.png\", x=0, y=0)\n",
        "pdf.text(115, 145, projeto)\n",
        "pdf.text(115, 160, str(horas_previstas) + \" horas\")\n",
        "pdf.text(115, 175, str(valor_hora_trabalhada))\n",
        "pdf.text(115, 190, prazo)\n",
        "pdf.text(115, 205, str(valor_total))\n",
        "\n",
        "\n",
        "\n",
        "pdf.output(\"Orçamento.pdf\")\n",
        "print(\"orçamento gerado com sussesso\")"
      ],
      "metadata": {
        "colab": {
          "base_uri": "https://localhost:8080/"
        },
        "id": "I9H_qG4KB80-",
        "outputId": "306c598c-467c-4ae6-eda0-55f8cf6b1b64"
      },
      "execution_count": null,
      "outputs": [
        {
          "output_type": "stream",
          "name": "stdout",
          "text": [
            "orçamento gerado com sussesso\n"
          ]
        }
      ]
    },
    {
      "cell_type": "code",
      "source": [],
      "metadata": {
        "id": "CzBQpSAQCGjI"
      },
      "execution_count": null,
      "outputs": []
    }
  ]
}